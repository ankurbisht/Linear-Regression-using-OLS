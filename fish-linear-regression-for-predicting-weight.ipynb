{
 "cells": [
  {
   "cell_type": "code",
   "execution_count": 1,
   "metadata": {
    "_cell_guid": "b1076dfc-b9ad-4769-8c92-a6c4dae69d19",
    "_uuid": "8f2839f25d086af736a60e9eeb907d3b93b6e0e5"
   },
   "outputs": [],
   "source": [
    "# Standard imports.\n",
    "import pandas as pd\n",
    "import matplotlib as mp\n",
    "import matplotlib.pyplot as plt\n",
    "import statsmodels.formula.api as sm\n",
    "import numpy as np\n",
    "import seaborn as sns\n",
    "from sklearn import linear_model\n",
    "from sklearn.linear_model import LinearRegression\n",
    "from sklearn.metrics import r2_score\n",
    "from sklearn.model_selection import train_test_split\n",
    "from sklearn.model_selection import cross_val_score"
   ]
  },
  {
   "cell_type": "code",
   "execution_count": 4,
   "metadata": {
    "_cell_guid": "79c7e3d0-c299-4dcb-8224-4455121ee9b0",
    "_uuid": "d629ff2d2480ee46fbb7e2d37f6b5fab8052498a",
    "scrolled": true
   },
   "outputs": [
    {
     "data": {
      "text/html": [
       "<div>\n",
       "<style scoped>\n",
       "    .dataframe tbody tr th:only-of-type {\n",
       "        vertical-align: middle;\n",
       "    }\n",
       "\n",
       "    .dataframe tbody tr th {\n",
       "        vertical-align: top;\n",
       "    }\n",
       "\n",
       "    .dataframe thead th {\n",
       "        text-align: right;\n",
       "    }\n",
       "</style>\n",
       "<table border=\"1\" class=\"dataframe\">\n",
       "  <thead>\n",
       "    <tr style=\"text-align: right;\">\n",
       "      <th></th>\n",
       "      <th>Species</th>\n",
       "      <th>Weight</th>\n",
       "      <th>Length1</th>\n",
       "      <th>Length2</th>\n",
       "      <th>Length3</th>\n",
       "      <th>Height</th>\n",
       "      <th>Width</th>\n",
       "    </tr>\n",
       "  </thead>\n",
       "  <tbody>\n",
       "    <tr>\n",
       "      <td>0</td>\n",
       "      <td>Bream</td>\n",
       "      <td>242.0</td>\n",
       "      <td>23.2</td>\n",
       "      <td>25.4</td>\n",
       "      <td>30.0</td>\n",
       "      <td>11.5200</td>\n",
       "      <td>4.0200</td>\n",
       "    </tr>\n",
       "    <tr>\n",
       "      <td>1</td>\n",
       "      <td>Bream</td>\n",
       "      <td>290.0</td>\n",
       "      <td>24.0</td>\n",
       "      <td>26.3</td>\n",
       "      <td>31.2</td>\n",
       "      <td>12.4800</td>\n",
       "      <td>4.3056</td>\n",
       "    </tr>\n",
       "    <tr>\n",
       "      <td>2</td>\n",
       "      <td>Bream</td>\n",
       "      <td>340.0</td>\n",
       "      <td>23.9</td>\n",
       "      <td>26.5</td>\n",
       "      <td>31.1</td>\n",
       "      <td>12.3778</td>\n",
       "      <td>4.6961</td>\n",
       "    </tr>\n",
       "    <tr>\n",
       "      <td>3</td>\n",
       "      <td>Bream</td>\n",
       "      <td>363.0</td>\n",
       "      <td>26.3</td>\n",
       "      <td>29.0</td>\n",
       "      <td>33.5</td>\n",
       "      <td>12.7300</td>\n",
       "      <td>4.4555</td>\n",
       "    </tr>\n",
       "    <tr>\n",
       "      <td>4</td>\n",
       "      <td>Bream</td>\n",
       "      <td>430.0</td>\n",
       "      <td>26.5</td>\n",
       "      <td>29.0</td>\n",
       "      <td>34.0</td>\n",
       "      <td>12.4440</td>\n",
       "      <td>5.1340</td>\n",
       "    </tr>\n",
       "    <tr>\n",
       "      <td>5</td>\n",
       "      <td>Bream</td>\n",
       "      <td>450.0</td>\n",
       "      <td>26.8</td>\n",
       "      <td>29.7</td>\n",
       "      <td>34.7</td>\n",
       "      <td>13.6024</td>\n",
       "      <td>4.9274</td>\n",
       "    </tr>\n",
       "    <tr>\n",
       "      <td>6</td>\n",
       "      <td>Bream</td>\n",
       "      <td>500.0</td>\n",
       "      <td>26.8</td>\n",
       "      <td>29.7</td>\n",
       "      <td>34.5</td>\n",
       "      <td>14.1795</td>\n",
       "      <td>5.2785</td>\n",
       "    </tr>\n",
       "    <tr>\n",
       "      <td>7</td>\n",
       "      <td>Bream</td>\n",
       "      <td>390.0</td>\n",
       "      <td>27.6</td>\n",
       "      <td>30.0</td>\n",
       "      <td>35.0</td>\n",
       "      <td>12.6700</td>\n",
       "      <td>4.6900</td>\n",
       "    </tr>\n",
       "    <tr>\n",
       "      <td>8</td>\n",
       "      <td>Bream</td>\n",
       "      <td>450.0</td>\n",
       "      <td>27.6</td>\n",
       "      <td>30.0</td>\n",
       "      <td>35.1</td>\n",
       "      <td>14.0049</td>\n",
       "      <td>4.8438</td>\n",
       "    </tr>\n",
       "    <tr>\n",
       "      <td>9</td>\n",
       "      <td>Bream</td>\n",
       "      <td>500.0</td>\n",
       "      <td>28.5</td>\n",
       "      <td>30.7</td>\n",
       "      <td>36.2</td>\n",
       "      <td>14.2266</td>\n",
       "      <td>4.9594</td>\n",
       "    </tr>\n",
       "  </tbody>\n",
       "</table>\n",
       "</div>"
      ],
      "text/plain": [
       "  Species  Weight  Length1  Length2  Length3   Height   Width\n",
       "0   Bream   242.0     23.2     25.4     30.0  11.5200  4.0200\n",
       "1   Bream   290.0     24.0     26.3     31.2  12.4800  4.3056\n",
       "2   Bream   340.0     23.9     26.5     31.1  12.3778  4.6961\n",
       "3   Bream   363.0     26.3     29.0     33.5  12.7300  4.4555\n",
       "4   Bream   430.0     26.5     29.0     34.0  12.4440  5.1340\n",
       "5   Bream   450.0     26.8     29.7     34.7  13.6024  4.9274\n",
       "6   Bream   500.0     26.8     29.7     34.5  14.1795  5.2785\n",
       "7   Bream   390.0     27.6     30.0     35.0  12.6700  4.6900\n",
       "8   Bream   450.0     27.6     30.0     35.1  14.0049  4.8438\n",
       "9   Bream   500.0     28.5     30.7     36.2  14.2266  4.9594"
      ]
     },
     "execution_count": 4,
     "metadata": {},
     "output_type": "execute_result"
    }
   ],
   "source": [
    "# Basic Analysis on dataset\n",
    "fish = pd.read_csv('Fish.csv') \n",
    "fish.head(10)"
   ]
  },
  {
   "cell_type": "code",
   "execution_count": 5,
   "metadata": {},
   "outputs": [
    {
     "data": {
      "text/plain": [
       "Species     object\n",
       "Weight     float64\n",
       "Length1    float64\n",
       "Length2    float64\n",
       "Length3    float64\n",
       "Height     float64\n",
       "Width      float64\n",
       "dtype: object"
      ]
     },
     "execution_count": 5,
     "metadata": {},
     "output_type": "execute_result"
    }
   ],
   "source": [
    "# Checking columns with datatypes\n",
    "fish.dtypes"
   ]
  },
  {
   "cell_type": "code",
   "execution_count": 6,
   "metadata": {},
   "outputs": [
    {
     "data": {
      "image/png": "[encoded data removed]",
      "text/plain": [
       "<Figure size 432x288 with 1 Axes>"
      ]
     },
     "metadata": {
      "needs_background": "light"
     },
     "output_type": "display_data"
    }
   ],
   "source": [
    "# Counts for each species\n",
    "val_c = fish['Species'].value_counts()\n",
    "val_c = pd.DataFrame(val_c)\n",
    "sns.barplot(x=val_c.index, y=val_c['Species'])\n",
    "plt.xlabel('Species of Fish')\n",
    "plt.ylabel('Counts of Species')\n",
    "plt.show()"
   ]
  },
  {
   "cell_type": "code",
   "execution_count": 7,
   "metadata": {},
   "outputs": [
    {
     "data": {
      "image/png": "[encoded data removed]",
      "text/plain": [
       "<Figure size 432x288 with 1 Axes>"
      ]
     },
     "metadata": {
      "needs_background": "light"
     },
     "output_type": "display_data"
    }
   ],
   "source": [
    "# Finding the Outliers using quantile. \n",
    "quan_fish = fish['Weight'].quantile([0, 0.1, 0.2, 0.3 ,0.4 , 0.5, 0.6 ,0.7, 0.8, 0.9, 1])\n",
    "quan_fish = pd.DataFrame(quan_fish)\n",
    "quan_fish.index = quan_fish.index*100 \n",
    "sns.barplot(x=quan_fish.index, y=quan_fish['Weight'])\n",
    "plt.xlabel('Quantile Values')\n",
    "plt.ylabel('Total Species counts')\n",
    "plt.show()"
   ]
  },
  {
   "cell_type": "code",
   "execution_count": 8,
   "metadata": {},
   "outputs": [
    {
     "data": {
      "image/png": "[encoded data removed]",
      "text/plain": [
       "<Figure size 432x288 with 1 Axes>"
      ]
     },
     "metadata": {
      "needs_background": "light"
     },
     "output_type": "display_data"
    }
   ],
   "source": [
    "# Plotting using Box plot \n",
    "plt.boxplot(fish.Weight)\n",
    "plt.show()"
   ]
  },
  {
   "cell_type": "markdown",
   "metadata": {},
   "source": [
    "**Looks like the Box plot shows a decent plot. There are no serious outliers **"
   ]
  },
  {
   "cell_type": "code",
   "execution_count": 9,
   "metadata": {},
   "outputs": [
    {
     "data": {
      "text/html": [
       "<div>\n",
       "<style scoped>\n",
       "    .dataframe tbody tr th:only-of-type {\n",
       "        vertical-align: middle;\n",
       "    }\n",
       "\n",
       "    .dataframe tbody tr th {\n",
       "        vertical-align: top;\n",
       "    }\n",
       "\n",
       "    .dataframe thead th {\n",
       "        text-align: right;\n",
       "    }\n",
       "</style>\n",
       "<table border=\"1\" class=\"dataframe\">\n",
       "  <thead>\n",
       "    <tr style=\"text-align: right;\">\n",
       "      <th></th>\n",
       "      <th>Species</th>\n",
       "      <th>Weight</th>\n",
       "      <th>Length1</th>\n",
       "      <th>Length2</th>\n",
       "      <th>Length3</th>\n",
       "      <th>Height</th>\n",
       "      <th>Width</th>\n",
       "    </tr>\n",
       "  </thead>\n",
       "  <tbody>\n",
       "    <tr>\n",
       "      <td>40</td>\n",
       "      <td>Roach</td>\n",
       "      <td>0.0</td>\n",
       "      <td>19.0</td>\n",
       "      <td>20.5</td>\n",
       "      <td>22.8</td>\n",
       "      <td>6.4752</td>\n",
       "      <td>3.3516</td>\n",
       "    </tr>\n",
       "  </tbody>\n",
       "</table>\n",
       "</div>"
      ],
      "text/plain": [
       "   Species  Weight  Length1  Length2  Length3  Height   Width\n",
       "40   Roach     0.0     19.0     20.5     22.8  6.4752  3.3516"
      ]
     },
     "execution_count": 9,
     "metadata": {},
     "output_type": "execute_result"
    }
   ],
   "source": [
    "# Finding invalid weights \n",
    "fish[fish['Weight'] <= 0]"
   ]
  },
  {
   "cell_type": "markdown",
   "metadata": {},
   "source": [
    "**Fish weight cannot be 0 . Hence this a is data issue and needs to be fixed **"
   ]
  },
  {
   "cell_type": "code",
   "execution_count": 10,
   "metadata": {},
   "outputs": [
    {
     "data": {
      "text/plain": [
       "160.05263157894737"
      ]
     },
     "execution_count": 10,
     "metadata": {},
     "output_type": "execute_result"
    }
   ],
   "source": [
    "#Fixing the outlier. Mean of the species weight is taken and assigned\n",
    "mean_fish = fish['Weight'][(fish['Species'] =='Roach') & (fish['Weight'] != 0)].mean()\n",
    "fish.loc[40,'Weight'] = mean_fish\n",
    "fish.loc[40,'Weight']"
   ]
  },
  {
   "cell_type": "markdown",
   "metadata": {},
   "source": [
    "**Issue record is fixed by taking the mean weight of Species Roach**"
   ]
  },
  {
   "cell_type": "code",
   "execution_count": 17,
   "metadata": {},
   "outputs": [
    {
     "data": {
      "image/png": "[encoded data removed]",
      "text/plain": [
       "<Figure size 432x288 with 2 Axes>"
      ]
     },
     "metadata": {
      "needs_background": "light"
     },
     "output_type": "display_data"
    }
   ],
   "source": [
    "# Plotting the correlation in heatmap:\n",
    "sns.heatmap(fish.corr(), annot=True ,cmap='YlGnBu')\n",
    "plt.show()"
   ]
  },
  {
   "cell_type": "markdown",
   "metadata": {},
   "source": [
    "**Good correlation for weight is seen in almost all features**"
   ]
  },
  {
   "cell_type": "code",
   "execution_count": 12,
   "metadata": {},
   "outputs": [
    {
     "data": {
      "text/html": [
       "<div>\n",
       "<style scoped>\n",
       "    .dataframe tbody tr th:only-of-type {\n",
       "        vertical-align: middle;\n",
       "    }\n",
       "\n",
       "    .dataframe tbody tr th {\n",
       "        vertical-align: top;\n",
       "    }\n",
       "\n",
       "    .dataframe thead th {\n",
       "        text-align: right;\n",
       "    }\n",
       "</style>\n",
       "<table border=\"1\" class=\"dataframe\">\n",
       "  <thead>\n",
       "    <tr style=\"text-align: right;\">\n",
       "      <th></th>\n",
       "      <th>Species</th>\n",
       "      <th>Weight</th>\n",
       "      <th>Length1</th>\n",
       "      <th>Length2</th>\n",
       "      <th>Length3</th>\n",
       "      <th>Height</th>\n",
       "      <th>Width</th>\n",
       "    </tr>\n",
       "  </thead>\n",
       "  <tbody>\n",
       "    <tr>\n",
       "      <td>0</td>\n",
       "      <td>Bream</td>\n",
       "      <td>242.0</td>\n",
       "      <td>23.2</td>\n",
       "      <td>25.4</td>\n",
       "      <td>30.0</td>\n",
       "      <td>11.5200</td>\n",
       "      <td>4.0200</td>\n",
       "    </tr>\n",
       "    <tr>\n",
       "      <td>1</td>\n",
       "      <td>Bream</td>\n",
       "      <td>290.0</td>\n",
       "      <td>24.0</td>\n",
       "      <td>26.3</td>\n",
       "      <td>31.2</td>\n",
       "      <td>12.4800</td>\n",
       "      <td>4.3056</td>\n",
       "    </tr>\n",
       "    <tr>\n",
       "      <td>2</td>\n",
       "      <td>Bream</td>\n",
       "      <td>340.0</td>\n",
       "      <td>23.9</td>\n",
       "      <td>26.5</td>\n",
       "      <td>31.1</td>\n",
       "      <td>12.3778</td>\n",
       "      <td>4.6961</td>\n",
       "    </tr>\n",
       "    <tr>\n",
       "      <td>3</td>\n",
       "      <td>Bream</td>\n",
       "      <td>363.0</td>\n",
       "      <td>26.3</td>\n",
       "      <td>29.0</td>\n",
       "      <td>33.5</td>\n",
       "      <td>12.7300</td>\n",
       "      <td>4.4555</td>\n",
       "    </tr>\n",
       "    <tr>\n",
       "      <td>4</td>\n",
       "      <td>Bream</td>\n",
       "      <td>430.0</td>\n",
       "      <td>26.5</td>\n",
       "      <td>29.0</td>\n",
       "      <td>34.0</td>\n",
       "      <td>12.4440</td>\n",
       "      <td>5.1340</td>\n",
       "    </tr>\n",
       "  </tbody>\n",
       "</table>\n",
       "</div>"
      ],
      "text/plain": [
       "  Species  Weight  Length1  Length2  Length3   Height   Width\n",
       "0   Bream   242.0     23.2     25.4     30.0  11.5200  4.0200\n",
       "1   Bream   290.0     24.0     26.3     31.2  12.4800  4.3056\n",
       "2   Bream   340.0     23.9     26.5     31.1  12.3778  4.6961\n",
       "3   Bream   363.0     26.3     29.0     33.5  12.7300  4.4555\n",
       "4   Bream   430.0     26.5     29.0     34.0  12.4440  5.1340"
      ]
     },
     "execution_count": 12,
     "metadata": {},
     "output_type": "execute_result"
    }
   ],
   "source": [
    "fish.head()"
   ]
  },
  {
   "cell_type": "code",
   "execution_count": 14,
   "metadata": {},
   "outputs": [
    {
     "data": {
      "text/plain": [
       "Index(['Species', 'Weight', 'Length1', 'Length2', 'Length3', 'Height',\n",
       "       'Width'],\n",
       "      dtype='object')"
      ]
     },
     "execution_count": 14,
     "metadata": {},
     "output_type": "execute_result"
    }
   ],
   "source": [
    "fish.columns"
   ]
  },
  {
   "cell_type": "code",
   "execution_count": null,
   "metadata": {},
   "outputs": [],
   "source": []
  },
  {
   "cell_type": "code",
   "execution_count": null,
   "metadata": {},
   "outputs": [],
   "source": []
  },
  {
   "cell_type": "markdown",
   "metadata": {},
   "source": [
    "## REGRESSION USING OLS: METHOD 1"
   ]
  },
  {
   "cell_type": "code",
   "execution_count": 16,
   "metadata": {},
   "outputs": [
    {
     "name": "stderr",
     "output_type": "stream",
     "text": [
      "C:\\Users\\ankur\\Anaconda3\\lib\\site-packages\\numpy\\core\\fromnumeric.py:2389: FutureWarning: Method .ptp is deprecated and will be removed in a future version. Use numpy.ptp instead.\n",
      "  return ptp(axis=axis, out=out, **kwargs)\n"
     ]
    },
    {
     "data": {
      "text/html": [
       "<table class=\"simpletable\">\n",
       "<caption>OLS Regression Results</caption>\n",
       "<tr>\n",
       "  <th>Dep. Variable:</th>         <td>Weight</td>      <th>  R-squared:         </th> <td>   0.886</td>\n",
       "</tr>\n",
       "<tr>\n",
       "  <th>Model:</th>                   <td>OLS</td>       <th>  Adj. R-squared:    </th> <td>   0.882</td>\n",
       "</tr>\n",
       "<tr>\n",
       "  <th>Method:</th>             <td>Least Squares</td>  <th>  F-statistic:       </th> <td>   237.4</td>\n",
       "</tr>\n",
       "<tr>\n",
       "  <th>Date:</th>             <td>Sun, 12 Jul 2020</td> <th>  Prob (F-statistic):</th> <td>3.51e-70</td>\n",
       "</tr>\n",
       "<tr>\n",
       "  <th>Time:</th>                 <td>09:23:03</td>     <th>  Log-Likelihood:    </th> <td> -987.20</td>\n",
       "</tr>\n",
       "<tr>\n",
       "  <th>No. Observations:</th>      <td>   159</td>      <th>  AIC:               </th> <td>   1986.</td>\n",
       "</tr>\n",
       "<tr>\n",
       "  <th>Df Residuals:</th>          <td>   153</td>      <th>  BIC:               </th> <td>   2005.</td>\n",
       "</tr>\n",
       "<tr>\n",
       "  <th>Df Model:</th>              <td>     5</td>      <th>                     </th>     <td> </td>   \n",
       "</tr>\n",
       "<tr>\n",
       "  <th>Covariance Type:</th>      <td>nonrobust</td>    <th>                     </th>     <td> </td>   \n",
       "</tr>\n",
       "</table>\n",
       "<table class=\"simpletable\">\n",
       "<tr>\n",
       "     <td></td>        <th>coef</th>     <th>std err</th>      <th>t</th>      <th>P>|t|</th>  <th>[0.025</th>    <th>0.975]</th>  \n",
       "</tr>\n",
       "<tr>\n",
       "  <th>const</th>   <td> -496.6172</td> <td>   29.431</td> <td>  -16.874</td> <td> 0.000</td> <td> -554.761</td> <td> -438.474</td>\n",
       "</tr>\n",
       "<tr>\n",
       "  <th>Length1</th> <td>   64.0767</td> <td>   40.017</td> <td>    1.601</td> <td> 0.111</td> <td>  -14.980</td> <td>  143.133</td>\n",
       "</tr>\n",
       "<tr>\n",
       "  <th>Length2</th> <td>   -9.2801</td> <td>   41.559</td> <td>   -0.223</td> <td> 0.824</td> <td>  -91.384</td> <td>   72.824</td>\n",
       "</tr>\n",
       "<tr>\n",
       "  <th>Length3</th> <td>  -28.0586</td> <td>   17.270</td> <td>   -1.625</td> <td> 0.106</td> <td>  -62.177</td> <td>    6.060</td>\n",
       "</tr>\n",
       "<tr>\n",
       "  <th>Height</th>  <td>   27.9015</td> <td>    8.688</td> <td>    3.212</td> <td> 0.002</td> <td>   10.739</td> <td>   45.065</td>\n",
       "</tr>\n",
       "<tr>\n",
       "  <th>Width</th>   <td>   23.4747</td> <td>   20.274</td> <td>    1.158</td> <td> 0.249</td> <td>  -16.579</td> <td>   63.529</td>\n",
       "</tr>\n",
       "</table>\n",
       "<table class=\"simpletable\">\n",
       "<tr>\n",
       "  <th>Omnibus:</th>       <td>21.793</td> <th>  Durbin-Watson:     </th> <td>   0.415</td>\n",
       "</tr>\n",
       "<tr>\n",
       "  <th>Prob(Omnibus):</th> <td> 0.000</td> <th>  Jarque-Bera (JB):  </th> <td>  29.147</td>\n",
       "</tr>\n",
       "<tr>\n",
       "  <th>Skew:</th>          <td> 0.802</td> <th>  Prob(JB):          </th> <td>4.69e-07</td>\n",
       "</tr>\n",
       "<tr>\n",
       "  <th>Kurtosis:</th>      <td> 4.351</td> <th>  Cond. No.          </th> <td>    315.</td>\n",
       "</tr>\n",
       "</table><br/><br/>Warnings:<br/>[1] Standard Errors assume that the covariance matrix of the errors is correctly specified."
      ],
      "text/plain": [
       "<class 'statsmodels.iolib.summary.Summary'>\n",
       "\"\"\"\n",
       "                            OLS Regression Results                            \n",
       "==============================================================================\n",
       "Dep. Variable:                 Weight   R-squared:                       0.886\n",
       "Model:                            OLS   Adj. R-squared:                  0.882\n",
       "Method:                 Least Squares   F-statistic:                     237.4\n",
       "Date:                Sun, 12 Jul 2020   Prob (F-statistic):           3.51e-70\n",
       "Time:                        09:23:03   Log-Likelihood:                -987.20\n",
       "No. Observations:                 159   AIC:                             1986.\n",
       "Df Residuals:                     153   BIC:                             2005.\n",
       "Df Model:                           5                                         \n",
       "Covariance Type:            nonrobust                                         \n",
       "==============================================================================\n",
       "                 coef    std err          t      P>|t|      [0.025      0.975]\n",
       "------------------------------------------------------------------------------\n",
       "const       -496.6172     29.431    -16.874      0.000    -554.761    -438.474\n",
       "Length1       64.0767     40.017      1.601      0.111     -14.980     143.133\n",
       "Length2       -9.2801     41.559     -0.223      0.824     -91.384      72.824\n",
       "Length3      -28.0586     17.270     -1.625      0.106     -62.177       6.060\n",
       "Height        27.9015      8.688      3.212      0.002      10.739      45.065\n",
       "Width         23.4747     20.274      1.158      0.249     -16.579      63.529\n",
       "==============================================================================\n",
       "Omnibus:                       21.793   Durbin-Watson:                   0.415\n",
       "Prob(Omnibus):                  0.000   Jarque-Bera (JB):               29.147\n",
       "Skew:                           0.802   Prob(JB):                     4.69e-07\n",
       "Kurtosis:                       4.351   Cond. No.                         315.\n",
       "==============================================================================\n",
       "\n",
       "Warnings:\n",
       "[1] Standard Errors assume that the covariance matrix of the errors is correctly specified.\n",
       "\"\"\""
      ]
     },
     "execution_count": 16,
     "metadata": {},
     "output_type": "execute_result"
    }
   ],
   "source": [
    "import statsmodels.api as sm\n",
    "x=fish.drop(['Species','Weight'],axis=1)\n",
    "y=fish['Weight']\n",
    "x_constant = sm.add_constant(x)\n",
    "model1 = sm.OLS(y, x_constant).fit()\n",
    "model1.summary()"
   ]
  },
  {
   "cell_type": "code",
   "execution_count": null,
   "metadata": {},
   "outputs": [],
   "source": []
  },
  {
   "cell_type": "markdown",
   "metadata": {},
   "source": [
    "## REGRESSION USING OLS: METHOD 2"
   ]
  },
  {
   "cell_type": "code",
   "execution_count": null,
   "metadata": {},
   "outputs": [],
   "source": []
  },
  {
   "cell_type": "code",
   "execution_count": 10,
   "metadata": {},
   "outputs": [
    {
     "data": {
      "text/html": [
       "<table class=\"simpletable\">\n",
       "<caption>OLS Regression Results</caption>\n",
       "<tr>\n",
       "  <th>Dep. Variable:</th>         <td>Weight</td>      <th>  R-squared:         </th> <td>   0.886</td>\n",
       "</tr>\n",
       "<tr>\n",
       "  <th>Model:</th>                   <td>OLS</td>       <th>  Adj. R-squared:    </th> <td>   0.882</td>\n",
       "</tr>\n",
       "<tr>\n",
       "  <th>Method:</th>             <td>Least Squares</td>  <th>  F-statistic:       </th> <td>   237.4</td>\n",
       "</tr>\n",
       "<tr>\n",
       "  <th>Date:</th>             <td>Wed, 01 Jul 2020</td> <th>  Prob (F-statistic):</th> <td>3.51e-70</td>\n",
       "</tr>\n",
       "<tr>\n",
       "  <th>Time:</th>                 <td>09:05:22</td>     <th>  Log-Likelihood:    </th> <td> -987.20</td>\n",
       "</tr>\n",
       "<tr>\n",
       "  <th>No. Observations:</th>      <td>   159</td>      <th>  AIC:               </th> <td>   1986.</td>\n",
       "</tr>\n",
       "<tr>\n",
       "  <th>Df Residuals:</th>          <td>   153</td>      <th>  BIC:               </th> <td>   2005.</td>\n",
       "</tr>\n",
       "<tr>\n",
       "  <th>Df Model:</th>              <td>     5</td>      <th>                     </th>     <td> </td>   \n",
       "</tr>\n",
       "<tr>\n",
       "  <th>Covariance Type:</th>      <td>nonrobust</td>    <th>                     </th>     <td> </td>   \n",
       "</tr>\n",
       "</table>\n",
       "<table class=\"simpletable\">\n",
       "<tr>\n",
       "      <td></td>         <th>coef</th>     <th>std err</th>      <th>t</th>      <th>P>|t|</th>  <th>[0.025</th>    <th>0.975]</th>  \n",
       "</tr>\n",
       "<tr>\n",
       "  <th>Intercept</th> <td> -496.6172</td> <td>   29.431</td> <td>  -16.874</td> <td> 0.000</td> <td> -554.761</td> <td> -438.474</td>\n",
       "</tr>\n",
       "<tr>\n",
       "  <th>Length1</th>   <td>   64.0767</td> <td>   40.017</td> <td>    1.601</td> <td> 0.111</td> <td>  -14.980</td> <td>  143.133</td>\n",
       "</tr>\n",
       "<tr>\n",
       "  <th>Length2</th>   <td>   -9.2801</td> <td>   41.559</td> <td>   -0.223</td> <td> 0.824</td> <td>  -91.384</td> <td>   72.824</td>\n",
       "</tr>\n",
       "<tr>\n",
       "  <th>Length3</th>   <td>  -28.0586</td> <td>   17.270</td> <td>   -1.625</td> <td> 0.106</td> <td>  -62.177</td> <td>    6.060</td>\n",
       "</tr>\n",
       "<tr>\n",
       "  <th>Height</th>    <td>   27.9015</td> <td>    8.688</td> <td>    3.212</td> <td> 0.002</td> <td>   10.739</td> <td>   45.065</td>\n",
       "</tr>\n",
       "<tr>\n",
       "  <th>Width</th>     <td>   23.4747</td> <td>   20.274</td> <td>    1.158</td> <td> 0.249</td> <td>  -16.579</td> <td>   63.529</td>\n",
       "</tr>\n",
       "</table>\n",
       "<table class=\"simpletable\">\n",
       "<tr>\n",
       "  <th>Omnibus:</th>       <td>21.793</td> <th>  Durbin-Watson:     </th> <td>   0.415</td>\n",
       "</tr>\n",
       "<tr>\n",
       "  <th>Prob(Omnibus):</th> <td> 0.000</td> <th>  Jarque-Bera (JB):  </th> <td>  29.147</td>\n",
       "</tr>\n",
       "<tr>\n",
       "  <th>Skew:</th>          <td> 0.802</td> <th>  Prob(JB):          </th> <td>4.69e-07</td>\n",
       "</tr>\n",
       "<tr>\n",
       "  <th>Kurtosis:</th>      <td> 4.351</td> <th>  Cond. No.          </th> <td>    315.</td>\n",
       "</tr>\n",
       "</table><br/><br/>Warnings:<br/>[1] Standard Errors assume that the covariance matrix of the errors is correctly specified."
      ],
      "text/plain": [
       "<class 'statsmodels.iolib.summary.Summary'>\n",
       "\"\"\"\n",
       "                            OLS Regression Results                            \n",
       "==============================================================================\n",
       "Dep. Variable:                 Weight   R-squared:                       0.886\n",
       "Model:                            OLS   Adj. R-squared:                  0.882\n",
       "Method:                 Least Squares   F-statistic:                     237.4\n",
       "Date:                Wed, 01 Jul 2020   Prob (F-statistic):           3.51e-70\n",
       "Time:                        09:05:22   Log-Likelihood:                -987.20\n",
       "No. Observations:                 159   AIC:                             1986.\n",
       "Df Residuals:                     153   BIC:                             2005.\n",
       "Df Model:                           5                                         \n",
       "Covariance Type:            nonrobust                                         \n",
       "==============================================================================\n",
       "                 coef    std err          t      P>|t|      [0.025      0.975]\n",
       "------------------------------------------------------------------------------\n",
       "Intercept   -496.6172     29.431    -16.874      0.000    -554.761    -438.474\n",
       "Length1       64.0767     40.017      1.601      0.111     -14.980     143.133\n",
       "Length2       -9.2801     41.559     -0.223      0.824     -91.384      72.824\n",
       "Length3      -28.0586     17.270     -1.625      0.106     -62.177       6.060\n",
       "Height        27.9015      8.688      3.212      0.002      10.739      45.065\n",
       "Width         23.4747     20.274      1.158      0.249     -16.579      63.529\n",
       "==============================================================================\n",
       "Omnibus:                       21.793   Durbin-Watson:                   0.415\n",
       "Prob(Omnibus):                  0.000   Jarque-Bera (JB):               29.147\n",
       "Skew:                           0.802   Prob(JB):                     4.69e-07\n",
       "Kurtosis:                       4.351   Cond. No.                         315.\n",
       "==============================================================================\n",
       "\n",
       "Warnings:\n",
       "[1] Standard Errors assume that the covariance matrix of the errors is correctly specified.\n",
       "\"\"\""
      ]
     },
     "execution_count": 10,
     "metadata": {},
     "output_type": "execute_result"
    }
   ],
   "source": [
    "model_l1 = sm.ols(formula='Weight ~ Length1+Length2+Length3+Height+Width', data=fish)\n",
    "fit_l1 = model_l1.fit()\n",
    "fit_l1.summary()"
   ]
  },
  {
   "cell_type": "markdown",
   "metadata": {},
   "source": [
    "**R-Squared value is 88% . But P values are higher for Length2**"
   ]
  },
  {
   "cell_type": "code",
   "execution_count": 11,
   "metadata": {},
   "outputs": [
    {
     "data": {
      "text/html": [
       "<table class=\"simpletable\">\n",
       "<caption>OLS Regression Results</caption>\n",
       "<tr>\n",
       "  <th>Dep. Variable:</th>         <td>Weight</td>      <th>  R-squared:         </th> <td>   0.886</td>\n",
       "</tr>\n",
       "<tr>\n",
       "  <th>Model:</th>                   <td>OLS</td>       <th>  Adj. R-squared:    </th> <td>   0.883</td>\n",
       "</tr>\n",
       "<tr>\n",
       "  <th>Method:</th>             <td>Least Squares</td>  <th>  F-statistic:       </th> <td>   298.5</td>\n",
       "</tr>\n",
       "<tr>\n",
       "  <th>Date:</th>             <td>Wed, 01 Jul 2020</td> <th>  Prob (F-statistic):</th> <td>1.95e-71</td>\n",
       "</tr>\n",
       "<tr>\n",
       "  <th>Time:</th>                 <td>09:05:22</td>     <th>  Log-Likelihood:    </th> <td> -987.23</td>\n",
       "</tr>\n",
       "<tr>\n",
       "  <th>No. Observations:</th>      <td>   159</td>      <th>  AIC:               </th> <td>   1984.</td>\n",
       "</tr>\n",
       "<tr>\n",
       "  <th>Df Residuals:</th>          <td>   154</td>      <th>  BIC:               </th> <td>   2000.</td>\n",
       "</tr>\n",
       "<tr>\n",
       "  <th>Df Model:</th>              <td>     4</td>      <th>                     </th>     <td> </td>   \n",
       "</tr>\n",
       "<tr>\n",
       "  <th>Covariance Type:</th>      <td>nonrobust</td>    <th>                     </th>     <td> </td>   \n",
       "</tr>\n",
       "</table>\n",
       "<table class=\"simpletable\">\n",
       "<tr>\n",
       "      <td></td>         <th>coef</th>     <th>std err</th>      <th>t</th>      <th>P>|t|</th>  <th>[0.025</th>    <th>0.975]</th>  \n",
       "</tr>\n",
       "<tr>\n",
       "  <th>Intercept</th> <td> -497.3904</td> <td>   29.136</td> <td>  -17.071</td> <td> 0.000</td> <td> -554.949</td> <td> -439.832</td>\n",
       "</tr>\n",
       "<tr>\n",
       "  <th>Length1</th>   <td>   56.0894</td> <td>   17.885</td> <td>    3.136</td> <td> 0.002</td> <td>   20.758</td> <td>   91.421</td>\n",
       "</tr>\n",
       "<tr>\n",
       "  <th>Length3</th>   <td>  -29.6286</td> <td>   15.725</td> <td>   -1.884</td> <td> 0.061</td> <td>  -60.694</td> <td>    1.436</td>\n",
       "</tr>\n",
       "<tr>\n",
       "  <th>Height</th>    <td>   28.1254</td> <td>    8.603</td> <td>    3.269</td> <td> 0.001</td> <td>   11.131</td> <td>   45.120</td>\n",
       "</tr>\n",
       "<tr>\n",
       "  <th>Width</th>     <td>   22.0572</td> <td>   19.195</td> <td>    1.149</td> <td> 0.252</td> <td>  -15.863</td> <td>   59.978</td>\n",
       "</tr>\n",
       "</table>\n",
       "<table class=\"simpletable\">\n",
       "<tr>\n",
       "  <th>Omnibus:</th>       <td>21.615</td> <th>  Durbin-Watson:     </th> <td>   0.415</td>\n",
       "</tr>\n",
       "<tr>\n",
       "  <th>Prob(Omnibus):</th> <td> 0.000</td> <th>  Jarque-Bera (JB):  </th> <td>  28.585</td>\n",
       "</tr>\n",
       "<tr>\n",
       "  <th>Skew:</th>          <td> 0.803</td> <th>  Prob(JB):          </th> <td>6.21e-07</td>\n",
       "</tr>\n",
       "<tr>\n",
       "  <th>Kurtosis:</th>      <td> 4.316</td> <th>  Cond. No.          </th> <td>    151.</td>\n",
       "</tr>\n",
       "</table><br/><br/>Warnings:<br/>[1] Standard Errors assume that the covariance matrix of the errors is correctly specified."
      ],
      "text/plain": [
       "<class 'statsmodels.iolib.summary.Summary'>\n",
       "\"\"\"\n",
       "                            OLS Regression Results                            \n",
       "==============================================================================\n",
       "Dep. Variable:                 Weight   R-squared:                       0.886\n",
       "Model:                            OLS   Adj. R-squared:                  0.883\n",
       "Method:                 Least Squares   F-statistic:                     298.5\n",
       "Date:                Wed, 01 Jul 2020   Prob (F-statistic):           1.95e-71\n",
       "Time:                        09:05:22   Log-Likelihood:                -987.23\n",
       "No. Observations:                 159   AIC:                             1984.\n",
       "Df Residuals:                     154   BIC:                             2000.\n",
       "Df Model:                           4                                         \n",
       "Covariance Type:            nonrobust                                         \n",
       "==============================================================================\n",
       "                 coef    std err          t      P>|t|      [0.025      0.975]\n",
       "------------------------------------------------------------------------------\n",
       "Intercept   -497.3904     29.136    -17.071      0.000    -554.949    -439.832\n",
       "Length1       56.0894     17.885      3.136      0.002      20.758      91.421\n",
       "Length3      -29.6286     15.725     -1.884      0.061     -60.694       1.436\n",
       "Height        28.1254      8.603      3.269      0.001      11.131      45.120\n",
       "Width         22.0572     19.195      1.149      0.252     -15.863      59.978\n",
       "==============================================================================\n",
       "Omnibus:                       21.615   Durbin-Watson:                   0.415\n",
       "Prob(Omnibus):                  0.000   Jarque-Bera (JB):               28.585\n",
       "Skew:                           0.803   Prob(JB):                     6.21e-07\n",
       "Kurtosis:                       4.316   Cond. No.                         151.\n",
       "==============================================================================\n",
       "\n",
       "Warnings:\n",
       "[1] Standard Errors assume that the covariance matrix of the errors is correctly specified.\n",
       "\"\"\""
      ]
     },
     "execution_count": 11,
     "metadata": {},
     "output_type": "execute_result"
    }
   ],
   "source": [
    "# Dropping high PValues . i.e Length2\n",
    "model_l1 = sm.ols(formula='Weight ~ Length1+Length3+Height+Width', data=fish)\n",
    "fit_l1 = model_l1.fit()\n",
    "fit_l1.summary()\n"
   ]
  },
  {
   "cell_type": "markdown",
   "metadata": {},
   "source": [
    "**Width has still more P value**"
   ]
  },
  {
   "cell_type": "code",
   "execution_count": 12,
   "metadata": {},
   "outputs": [
    {
     "data": {
      "text/html": [
       "<table class=\"simpletable\">\n",
       "<caption>OLS Regression Results</caption>\n",
       "<tr>\n",
       "  <th>Dep. Variable:</th>         <td>Weight</td>      <th>  R-squared:         </th> <td>   0.885</td>\n",
       "</tr>\n",
       "<tr>\n",
       "  <th>Model:</th>                   <td>OLS</td>       <th>  Adj. R-squared:    </th> <td>   0.883</td>\n",
       "</tr>\n",
       "<tr>\n",
       "  <th>Method:</th>             <td>Least Squares</td>  <th>  F-statistic:       </th> <td>   396.8</td>\n",
       "</tr>\n",
       "<tr>\n",
       "  <th>Date:</th>             <td>Wed, 01 Jul 2020</td> <th>  Prob (F-statistic):</th> <td>1.73e-72</td>\n",
       "</tr>\n",
       "<tr>\n",
       "  <th>Time:</th>                 <td>09:05:22</td>     <th>  Log-Likelihood:    </th> <td> -987.91</td>\n",
       "</tr>\n",
       "<tr>\n",
       "  <th>No. Observations:</th>      <td>   159</td>      <th>  AIC:               </th> <td>   1984.</td>\n",
       "</tr>\n",
       "<tr>\n",
       "  <th>Df Residuals:</th>          <td>   155</td>      <th>  BIC:               </th> <td>   1996.</td>\n",
       "</tr>\n",
       "<tr>\n",
       "  <th>Df Model:</th>              <td>     3</td>      <th>                     </th>     <td> </td>   \n",
       "</tr>\n",
       "<tr>\n",
       "  <th>Covariance Type:</th>      <td>nonrobust</td>    <th>                     </th>     <td> </td>   \n",
       "</tr>\n",
       "</table>\n",
       "<table class=\"simpletable\">\n",
       "<tr>\n",
       "      <td></td>         <th>coef</th>     <th>std err</th>      <th>t</th>      <th>P>|t|</th>  <th>[0.025</th>    <th>0.975]</th>  \n",
       "</tr>\n",
       "<tr>\n",
       "  <th>Intercept</th> <td> -488.4923</td> <td>   28.117</td> <td>  -17.373</td> <td> 0.000</td> <td> -544.035</td> <td> -432.949</td>\n",
       "</tr>\n",
       "<tr>\n",
       "  <th>Length1</th>   <td>   70.0465</td> <td>   13.141</td> <td>    5.330</td> <td> 0.000</td> <td>   44.087</td> <td>   96.006</td>\n",
       "</tr>\n",
       "<tr>\n",
       "  <th>Length3</th>   <td>  -40.7281</td> <td>   12.422</td> <td>   -3.279</td> <td> 0.001</td> <td>  -65.265</td> <td>  -16.191</td>\n",
       "</tr>\n",
       "<tr>\n",
       "  <th>Height</th>    <td>   35.7955</td> <td>    5.433</td> <td>    6.589</td> <td> 0.000</td> <td>   25.064</td> <td>   46.527</td>\n",
       "</tr>\n",
       "</table>\n",
       "<table class=\"simpletable\">\n",
       "<tr>\n",
       "  <th>Omnibus:</th>       <td>15.416</td> <th>  Durbin-Watson:     </th> <td>   0.454</td>\n",
       "</tr>\n",
       "<tr>\n",
       "  <th>Prob(Omnibus):</th> <td> 0.000</td> <th>  Jarque-Bera (JB):  </th> <td>  18.806</td>\n",
       "</tr>\n",
       "<tr>\n",
       "  <th>Skew:</th>          <td> 0.634</td> <th>  Prob(JB):          </th> <td>8.25e-05</td>\n",
       "</tr>\n",
       "<tr>\n",
       "  <th>Kurtosis:</th>      <td> 4.110</td> <th>  Cond. No.          </th> <td>    130.</td>\n",
       "</tr>\n",
       "</table><br/><br/>Warnings:<br/>[1] Standard Errors assume that the covariance matrix of the errors is correctly specified."
      ],
      "text/plain": [
       "<class 'statsmodels.iolib.summary.Summary'>\n",
       "\"\"\"\n",
       "                            OLS Regression Results                            \n",
       "==============================================================================\n",
       "Dep. Variable:                 Weight   R-squared:                       0.885\n",
       "Model:                            OLS   Adj. R-squared:                  0.883\n",
       "Method:                 Least Squares   F-statistic:                     396.8\n",
       "Date:                Wed, 01 Jul 2020   Prob (F-statistic):           1.73e-72\n",
       "Time:                        09:05:22   Log-Likelihood:                -987.91\n",
       "No. Observations:                 159   AIC:                             1984.\n",
       "Df Residuals:                     155   BIC:                             1996.\n",
       "Df Model:                           3                                         \n",
       "Covariance Type:            nonrobust                                         \n",
       "==============================================================================\n",
       "                 coef    std err          t      P>|t|      [0.025      0.975]\n",
       "------------------------------------------------------------------------------\n",
       "Intercept   -488.4923     28.117    -17.373      0.000    -544.035    -432.949\n",
       "Length1       70.0465     13.141      5.330      0.000      44.087      96.006\n",
       "Length3      -40.7281     12.422     -3.279      0.001     -65.265     -16.191\n",
       "Height        35.7955      5.433      6.589      0.000      25.064      46.527\n",
       "==============================================================================\n",
       "Omnibus:                       15.416   Durbin-Watson:                   0.454\n",
       "Prob(Omnibus):                  0.000   Jarque-Bera (JB):               18.806\n",
       "Skew:                           0.634   Prob(JB):                     8.25e-05\n",
       "Kurtosis:                       4.110   Cond. No.                         130.\n",
       "==============================================================================\n",
       "\n",
       "Warnings:\n",
       "[1] Standard Errors assume that the covariance matrix of the errors is correctly specified.\n",
       "\"\"\""
      ]
     },
     "execution_count": 12,
     "metadata": {},
     "output_type": "execute_result"
    }
   ],
   "source": [
    "# Dropping high PValues . i.e Width\n",
    "model_l1 = sm.ols(formula='Weight ~ Length1+Length3+Height', data=fish)\n",
    "fit_l1 = model_l1.fit()\n",
    "fit_l1.summary()\n"
   ]
  },
  {
   "cell_type": "markdown",
   "metadata": {},
   "source": [
    "**R-Squared value is 88.5% and P values negligible.**"
   ]
  },
  {
   "cell_type": "code",
   "execution_count": 13,
   "metadata": {},
   "outputs": [],
   "source": [
    "# Defining a function to calculate VIF beltween Length1 , Length3 & Height\n",
    "def vif_cal(input_data, dependent_col):\n",
    "    x_vars=input_data.drop([dependent_col], axis=1)\n",
    "    xvar_names=x_vars.columns\n",
    "    for i in range(0,xvar_names.shape[0]):\n",
    "        y=x_vars[xvar_names[i]] \n",
    "        x=x_vars[xvar_names.drop(xvar_names[i])]\n",
    "        rsq=sm.ols(formula=\"y~x\", data=x_vars).fit().rsquared  \n",
    "        vif=round(1/(1-rsq),2)\n",
    "        print (xvar_names[i], \" VIF = \" , vif)"
   ]
  },
  {
   "cell_type": "code",
   "execution_count": 14,
   "metadata": {},
   "outputs": [
    {
     "name": "stdout",
     "output_type": "stream",
     "text": [
      "Length1  VIF =  182.09\n",
      "Length3  VIF =  219.46\n",
      "Height  VIF =  5.72\n"
     ]
    }
   ],
   "source": [
    "# Calculating VIF values for all attributes\n",
    "fish_d = fish.drop(['Species','Length2','Width'],axis = 1)\n",
    "vif_cal(input_data=fish_d, dependent_col=\"Weight\")"
   ]
  },
  {
   "cell_type": "markdown",
   "metadata": {},
   "source": [
    "**We see Length3 has highest VIF**"
   ]
  },
  {
   "cell_type": "code",
   "execution_count": 15,
   "metadata": {},
   "outputs": [
    {
     "data": {
      "text/html": [
       "<table class=\"simpletable\">\n",
       "<caption>OLS Regression Results</caption>\n",
       "<tr>\n",
       "  <th>Dep. Variable:</th>         <td>Weight</td>      <th>  R-squared:         </th> <td>   0.877</td>\n",
       "</tr>\n",
       "<tr>\n",
       "  <th>Model:</th>                   <td>OLS</td>       <th>  Adj. R-squared:    </th> <td>   0.875</td>\n",
       "</tr>\n",
       "<tr>\n",
       "  <th>Method:</th>             <td>Least Squares</td>  <th>  F-statistic:       </th> <td>   555.1</td>\n",
       "</tr>\n",
       "<tr>\n",
       "  <th>Date:</th>             <td>Wed, 01 Jul 2020</td> <th>  Prob (F-statistic):</th> <td>1.17e-71</td>\n",
       "</tr>\n",
       "<tr>\n",
       "  <th>Time:</th>                 <td>09:05:22</td>     <th>  Log-Likelihood:    </th> <td> -993.24</td>\n",
       "</tr>\n",
       "<tr>\n",
       "  <th>No. Observations:</th>      <td>   159</td>      <th>  AIC:               </th> <td>   1992.</td>\n",
       "</tr>\n",
       "<tr>\n",
       "  <th>Df Residuals:</th>          <td>   156</td>      <th>  BIC:               </th> <td>   2002.</td>\n",
       "</tr>\n",
       "<tr>\n",
       "  <th>Df Model:</th>              <td>     2</td>      <th>                     </th>     <td> </td>   \n",
       "</tr>\n",
       "<tr>\n",
       "  <th>Covariance Type:</th>      <td>nonrobust</td>    <th>                     </th>     <td> </td>   \n",
       "</tr>\n",
       "</table>\n",
       "<table class=\"simpletable\">\n",
       "<tr>\n",
       "      <td></td>         <th>coef</th>     <th>std err</th>      <th>t</th>      <th>P>|t|</th>  <th>[0.025</th>    <th>0.975]</th>  \n",
       "</tr>\n",
       "<tr>\n",
       "  <th>Intercept</th> <td> -499.5577</td> <td>   28.773</td> <td>  -17.362</td> <td> 0.000</td> <td> -556.393</td> <td> -442.722</td>\n",
       "</tr>\n",
       "<tr>\n",
       "  <th>Length1</th>   <td>   27.1534</td> <td>    1.286</td> <td>   21.107</td> <td> 0.000</td> <td>   24.612</td> <td>   29.695</td>\n",
       "</tr>\n",
       "<tr>\n",
       "  <th>Height</th>    <td>   20.7547</td> <td>    3.000</td> <td>    6.918</td> <td> 0.000</td> <td>   14.828</td> <td>   26.681</td>\n",
       "</tr>\n",
       "</table>\n",
       "<table class=\"simpletable\">\n",
       "<tr>\n",
       "  <th>Omnibus:</th>       <td> 5.358</td> <th>  Durbin-Watson:     </th> <td>   0.434</td>\n",
       "</tr>\n",
       "<tr>\n",
       "  <th>Prob(Omnibus):</th> <td> 0.069</td> <th>  Jarque-Bera (JB):  </th> <td>   4.901</td>\n",
       "</tr>\n",
       "<tr>\n",
       "  <th>Skew:</th>          <td> 0.382</td> <th>  Prob(JB):          </th> <td>  0.0863</td>\n",
       "</tr>\n",
       "<tr>\n",
       "  <th>Kurtosis:</th>      <td> 3.396</td> <th>  Cond. No.          </th> <td>    85.3</td>\n",
       "</tr>\n",
       "</table><br/><br/>Warnings:<br/>[1] Standard Errors assume that the covariance matrix of the errors is correctly specified."
      ],
      "text/plain": [
       "<class 'statsmodels.iolib.summary.Summary'>\n",
       "\"\"\"\n",
       "                            OLS Regression Results                            \n",
       "==============================================================================\n",
       "Dep. Variable:                 Weight   R-squared:                       0.877\n",
       "Model:                            OLS   Adj. R-squared:                  0.875\n",
       "Method:                 Least Squares   F-statistic:                     555.1\n",
       "Date:                Wed, 01 Jul 2020   Prob (F-statistic):           1.17e-71\n",
       "Time:                        09:05:22   Log-Likelihood:                -993.24\n",
       "No. Observations:                 159   AIC:                             1992.\n",
       "Df Residuals:                     156   BIC:                             2002.\n",
       "Df Model:                           2                                         \n",
       "Covariance Type:            nonrobust                                         \n",
       "==============================================================================\n",
       "                 coef    std err          t      P>|t|      [0.025      0.975]\n",
       "------------------------------------------------------------------------------\n",
       "Intercept   -499.5577     28.773    -17.362      0.000    -556.393    -442.722\n",
       "Length1       27.1534      1.286     21.107      0.000      24.612      29.695\n",
       "Height        20.7547      3.000      6.918      0.000      14.828      26.681\n",
       "==============================================================================\n",
       "Omnibus:                        5.358   Durbin-Watson:                   0.434\n",
       "Prob(Omnibus):                  0.069   Jarque-Bera (JB):                4.901\n",
       "Skew:                           0.382   Prob(JB):                       0.0863\n",
       "Kurtosis:                       3.396   Cond. No.                         85.3\n",
       "==============================================================================\n",
       "\n",
       "Warnings:\n",
       "[1] Standard Errors assume that the covariance matrix of the errors is correctly specified.\n",
       "\"\"\""
      ]
     },
     "execution_count": 15,
     "metadata": {},
     "output_type": "execute_result"
    }
   ],
   "source": [
    "#Checking model by removing Length3\n",
    "model_l1 = sm.ols(formula='Weight ~ Length1+Height', data=fish)\n",
    "fit_l1 = model_l1.fit()\n",
    "fit_l1.summary()"
   ]
  },
  {
   "cell_type": "markdown",
   "metadata": {},
   "source": [
    "![](http://)**R-squared and P values still looks good.**"
   ]
  },
  {
   "cell_type": "code",
   "execution_count": 16,
   "metadata": {},
   "outputs": [
    {
     "name": "stdout",
     "output_type": "stream",
     "text": [
      "Length1  VIF =  1.64\n",
      "Height  VIF =  1.64\n"
     ]
    }
   ],
   "source": [
    "# Checking the VIF's of model features by deleting Length3\n",
    "fish_d = fish.drop(['Species','Length2','Width','Length3'],axis = 1)\n",
    "vif_cal(input_data=fish_d, dependent_col=\"Weight\")"
   ]
  },
  {
   "cell_type": "markdown",
   "metadata": {},
   "source": [
    "**Vif's are also good < 5 . Hence Weights can be predicted using Length1 and Height**"
   ]
  },
  {
   "cell_type": "code",
   "execution_count": 17,
   "metadata": {},
   "outputs": [],
   "source": [
    "# Splitting the data for Training and Testing\n",
    "y = fish['Weight']\n",
    "X = fish.loc[:,['Length1','Height']]\n",
    "X_train, X_test, y_train, y_test = train_test_split(X, y, test_size=0.2, random_state=1)"
   ]
  },
  {
   "cell_type": "code",
   "execution_count": 18,
   "metadata": {},
   "outputs": [
    {
     "data": {
      "text/plain": [
       "LinearRegression()"
      ]
     },
     "execution_count": 18,
     "metadata": {},
     "output_type": "execute_result"
    }
   ],
   "source": [
    "# Creating a LinearRegression model for Training data\n",
    "lr = LinearRegression()\n",
    "lr.fit(X_train,y_train)"
   ]
  },
  {
   "cell_type": "code",
   "execution_count": 19,
   "metadata": {},
   "outputs": [
    {
     "data": {
      "text/plain": [
       "array([26.42676601, 20.94874998])"
      ]
     },
     "execution_count": 19,
     "metadata": {},
     "output_type": "execute_result"
    }
   ],
   "source": [
    "#Checking the coefficients \n",
    "lr.intercept_\n",
    "lr.coef_"
   ]
  },
  {
   "cell_type": "code",
   "execution_count": 20,
   "metadata": {},
   "outputs": [
    {
     "data": {
      "text/plain": [
       "0.8680892475214407"
      ]
     },
     "execution_count": 20,
     "metadata": {},
     "output_type": "execute_result"
    }
   ],
   "source": [
    "# Predicting the Weights for same Train data and checking R2 score against the same\n",
    "y_pred = lr.predict(X_train)\n",
    "r2_score(y_train,y_pred)"
   ]
  },
  {
   "cell_type": "markdown",
   "metadata": {},
   "source": [
    "R2 score comes to 86.8"
   ]
  },
  {
   "cell_type": "code",
   "execution_count": 21,
   "metadata": {},
   "outputs": [
    {
     "data": {
      "text/plain": [
       "0.8510385805364061"
      ]
     },
     "execution_count": 21,
     "metadata": {},
     "output_type": "execute_result"
    }
   ],
   "source": [
    "# Checking the Mean of R2 scores for 10 random sample selecrions\n",
    "r2_val_score_train = cross_val_score(lr, X_train, y_train, cv=10, scoring='r2')\n",
    "r2_val_score_train\n",
    "r2_val_score_train.mean()"
   ]
  },
  {
   "cell_type": "markdown",
   "metadata": {},
   "source": [
    "85% is the mean r2 value"
   ]
  },
  {
   "cell_type": "code",
   "execution_count": 22,
   "metadata": {},
   "outputs": [
    {
     "data": {
      "text/plain": [
       "0.90535629793849"
      ]
     },
     "execution_count": 22,
     "metadata": {},
     "output_type": "execute_result"
    }
   ],
   "source": [
    "#Valuating the R2 score in Test data\n",
    "y_pred_test = lr.predict(X_test)\n",
    "r2_score(y_test,y_pred_test)\n"
   ]
  },
  {
   "cell_type": "markdown",
   "metadata": {},
   "source": [
    "Test data shows good R2 score i.e 90% better that 85% in Train data. This looks good."
   ]
  }
 ],
 "metadata": {
  "kernelspec": {
   "display_name": "Python 3",
   "language": "python",
   "name": "python3"
  },
  "language_info": {
   "codemirror_mode": {
    "name": "ipython",
    "version": 3
   },
   "file_extension": ".py",
   "mimetype": "text/x-python",
   "name": "python",
   "nbconvert_exporter": "python",
   "pygments_lexer": "ipython3",
   "version": "3.7.4"
  }
 },
 "nbformat": 4,
 "nbformat_minor": 4
}
